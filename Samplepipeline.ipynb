{
  "nbformat": 4,
  "nbformat_minor": 0,
  "metadata": {
    "colab": {
      "name": "Samplepipeline.ipynb",
      "provenance": [],
      "collapsed_sections": [],
      "toc_visible": true,
      "authorship_tag": "ABX9TyNtgPv6xKF9qSQWr6frrDZ/",
      "include_colab_link": true
    },
    "kernelspec": {
      "name": "python3",
      "display_name": "Python 3"
    }
  },
  "cells": [
    {
      "cell_type": "markdown",
      "metadata": {
        "id": "view-in-github",
        "colab_type": "text"
      },
      "source": [
        "<a href=\"https://colab.research.google.com/github/jerry2eden/hamoye_excersie/blob/master/Samplepipeline.ipynb\" target=\"_parent\"><img src=\"https://colab.research.google.com/assets/colab-badge.svg\" alt=\"Open In Colab\"/></a>"
      ]
    },
    {
      "cell_type": "code",
      "metadata": {
        "id": "iVL1gOZnr0s5"
      },
      "source": [
        "!pip3 install kfp --upgrade --user"
      ],
      "execution_count": null,
      "outputs": []
    },
    {
      "cell_type": "code",
      "metadata": {
        "id": "4rix4vwVsS-d"
      },
      "source": [
        "!which dsl-compile"
      ],
      "execution_count": 2,
      "outputs": []
    },
    {
      "cell_type": "code",
      "metadata": {
        "id": "5B8Z-9SuriiT"
      },
      "source": [
        "\n",
        "import numpy as np\n",
        "import pandas as  pd\n",
        "import os\n",
        "import matplotlib.pyplot as plt\n",
        "\n",
        "# data encoding\n",
        "from sklearn.preprocessing import LabelEncoder\n",
        "\n",
        "# splitting the data\n",
        "from sklearn.model_selection import train_test_split\n",
        "\n",
        "# Standardization - feature scaling\n",
        "from sklearn.preprocessing import StandardScaler\n",
        "\n",
        "# Deep learning Libraries\n",
        "import keras\n",
        "from keras.models import Sequential\n",
        "from keras.layers import Dense\n",
        "\n",
        "# evaluating the mode\n",
        "from sklearn.metrics import classification_report, confusion_matrix"
      ],
      "execution_count": 5,
      "outputs": []
    },
    {
      "cell_type": "code",
      "metadata": {
        "id": "4Gxbzj1GsvDb"
      },
      "source": [
        "out_dir = '/content/sample_data/DATA'"
      ],
      "execution_count": 4,
      "outputs": []
    },
    {
      "cell_type": "code",
      "metadata": {
        "id": "jCa4wZhPtNnR"
      },
      "source": [
        "\n",
        "def train(data_path, model_file):\n",
        "    \n",
        "    import pickle\n",
        "    import sys, subprocess;\n",
        "    subprocess.run([sys.executable, '-m', 'pip', 'install', 'pandas==0.23.4'])\n",
        "    subprocess.run([sys.executable, '-m', 'pip', 'install', 'scikit-learn==0.22'])\n",
        "    import numpy as np\n",
        "    import pandas as pd\n",
        "    import tensorflow as tf\n",
        "    from tensorflow.python import keras\n",
        "    # splitting the data\n",
        "    from sklearn.model_selection import train_test_split\n",
        "    # Standardization - feature scaling\n",
        "    from sklearn.preprocessing import StandardScaler\n",
        "    # data encoding\n",
        "    from sklearn.preprocessing import LabelEncoder\n",
        "    \n",
        "    # Download the dataset and split into training and test data. \n",
        "    data = pd.read_csv(\"https://raw.githubusercontent.com/AdeloreSimiloluwa/Artificial-Neural-Network/master/data/Churn_Modelling.csv\")\n",
        "    \n",
        "    #preprocessing\n",
        "    X = data.iloc[:, 3:-1]\n",
        "    y = data.iloc[:,-1:]\n",
        "    \n",
        "    # encoding country\n",
        "    encoder_X_1= LabelEncoder()\n",
        "    X.iloc[:,1] = encoder_X_1.fit_transform(X.iloc[:,1])\n",
        "    \n",
        "    # encoding gender\n",
        "    encoder_X_2= LabelEncoder()\n",
        "    X.iloc[:,2] = encoder_X_2.fit_transform(X.iloc[:,2])\n",
        "    \n",
        "    # we would also use the dummy variable because they are norminal variables\n",
        "    dummy = pd.get_dummies(X[\"Geography\"], prefix = ['Geography'],drop_first=True)\n",
        "    X=pd.concat([X,dummy], axis = 1)\n",
        "    X.head()\n",
        "    X=X.drop(columns = ['Geography'], axis = 1)\n",
        "    \n",
        "    # split the data\n",
        "    X_train,X_test,y_train,y_test = train_test_split( X,y, test_size=0.2, random_state = 0)\n",
        "    # Normalize the data.\n",
        "    sc =StandardScaler()\n",
        "    X_train = sc.fit_transform(X_train)\n",
        "    X_test = sc.transform(X_test)\n",
        "\n",
        "    y_train = y_train.values\n",
        "    y_test = y_test.values\n",
        "    \n",
        "    # Define the model using Keras.\n",
        "    classifier = keras.models.Sequential()\n",
        "    classifier.add(keras.layers.Dense(units =6, activation='relu', input_dim=11))\n",
        "    classifier.add(keras.layers.Dense(units =6, activation='relu'))\n",
        "    classifier.add(keras.layers.Dense(units =1, activation='sigmoid'))\n",
        "\n",
        "    classifier.summary()\n",
        "\n",
        "    classifier.compile(optimizer = 'adam', loss='binary_crossentropy', metrics =['accuracy'])\n",
        "\n",
        "    # Run a training job with specified number of epochs\n",
        "    classifier.fit(X_train, y_train, batch_size=10 , epochs=50 )\n",
        "\n",
        "    #Evaluate the model and print the results\n",
        "    test_loss, test_acc = classifier.evaluate(X_test,  y_test, verbose=0)\n",
        "    print('Test accuracy:', test_acc)\n",
        "    #Save the model to the designated \n",
        "    classifier.save(f'{data_path}/{model_file}')\n",
        "\n",
        "    #Save the test_data as a pickle file to be used by the predict component.\n",
        "    with open(f'{data_path}/test_data', 'wb') as f:\n",
        "        pickle.dump((X_test,  y_test), f)\n"
      ],
      "execution_count": 7,
      "outputs": []
    },
    {
      "cell_type": "code",
      "metadata": {
        "id": "095hkZM8w-8i"
      },
      "source": [
        "classifier = train(out_dir, \"model\")"
      ],
      "execution_count": null,
      "outputs": []
    },
    {
      "cell_type": "code",
      "metadata": {
        "id": "-mjyAUqZxiH9"
      },
      "source": [
        "def predict(data_path, model_file):\n",
        "    \n",
        "    import pickle\n",
        "    import tensorflow as tf\n",
        "    from tensorflow import keras\n",
        "    import numpy as np\n",
        "    \n",
        "    # Load the saved Keras model\n",
        "    classifier = keras.models.load_model(f'{data_path}/{model_file}')\n",
        "\n",
        "    # Load and unpack the test_data\n",
        "    with open(f'{data_path}/test_data','rb') as f:\n",
        "        test_data = pickle.load(f)\n",
        "    # Separate the X_test from y_test.\n",
        "    X_test,  y_test = test_data\n",
        "\n",
        "    # make predictions.\n",
        "    y_pred = classifier.predict(X_test)\n",
        "\n",
        "    # create a threshold\n",
        "    y_pred=(y_pred>0.5)\n",
        "    \n",
        "    with open(f'{data_path}/result.txt', 'w') as result:\n",
        "        result.write(\" Prediction: {}, Actual: {} \".format(y_pred,y_test.astype(np.bool)))\n",
        "    \n",
        "    print('Prediction has be saved successfully!')"
      ],
      "execution_count": 9,
      "outputs": []
    },
    {
      "cell_type": "code",
      "metadata": {
        "id": "yTZ95WddxuDc"
      },
      "source": [
        "predict(out_dir, \"model\")"
      ],
      "execution_count": null,
      "outputs": []
    },
    {
      "cell_type": "code",
      "metadata": {
        "id": "ndtH5H1Px8pc"
      },
      "source": [
        "# Create train and predict lightweight components.\n",
        "train_op = comp.func_to_container_op(train , base_image = \"tensorflow/tensorflow:latest-gpu-py3\")\n",
        "predict_op = comp.func_to_container_op(predict , base_image = \"tensorflow/tensorflow:latest-gpu-py3\")"
      ],
      "execution_count": 11,
      "outputs": []
    },
    {
      "cell_type": "code",
      "metadata": {
        "id": "e8r3MxwyyK1B",
        "outputId": "0d11d26f-22b2-41ab-accd-04e571eede8d",
        "colab": {
          "base_uri": "https://localhost:8080/"
        }
      },
      "source": [
        "#Create a client to enable communication with the Pipelines API server.\n",
        "client = kfp.Client()"
      ],
      "execution_count": 12,
      "outputs": [
        {
          "output_type": "stream",
          "text": [
            "Failed to load kube config.\n"
          ],
          "name": "stdout"
        }
      ]
    }
  ]
}